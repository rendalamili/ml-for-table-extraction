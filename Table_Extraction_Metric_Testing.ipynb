{
  "nbformat": 4,
  "nbformat_minor": 0,
  "metadata": {
    "colab": {
      "provenance": [],
      "authorship_tag": "ABX9TyMTeXJKH6kbBUe87Y7/27KM",
      "include_colab_link": true
    },
    "kernelspec": {
      "name": "python3",
      "display_name": "Python 3"
    },
    "language_info": {
      "name": "python"
    }
  },
  "cells": [
    {
      "cell_type": "markdown",
      "metadata": {
        "id": "view-in-github",
        "colab_type": "text"
      },
      "source": [
        "<a href=\"https://colab.research.google.com/github/rendalamili/ml-for-table-extraction/blob/main/Table_Extraction_Metric_Testing.ipynb\" target=\"_parent\"><img src=\"https://colab.research.google.com/assets/colab-badge.svg\" alt=\"Open In Colab\"/></a>"
      ]
    },
    {
      "cell_type": "code",
      "execution_count": null,
      "metadata": {
        "id": "zZv0GpFBIBBK"
      },
      "outputs": [],
      "source": []
    },
    {
      "cell_type": "markdown",
      "source": [
        "This notebook is a continuation of the [model testing](https://colab.research.google.com/drive/186JqMng-xEvj0s1AKYYxih9KlyzAOWBk) we conducted for our Capstone Project titled \"Machine Learning for Table Information Extraction\".\n",
        "\n",
        "We used the following three base tables to test our models:\n",
        "\n",
        "Table 1 - [example_merged.pdf](https://mymailunisaedu.sharepoint.com/:b:/s/USO_CapstoneProjectSP4SP62024-GroupD/EViWUwb5ZW5JkDRS6qguhEoBZNRe7XEeysdV3lj-Qu2KJA?e=2Lx4jL)\n",
        "\n",
        "Table 2 - [test1.pdf](https://mymailunisaedu.sharepoint.com/:b:/s/USO_CapstoneProjectSP4SP62024-GroupD/EeriIf47pQNHq2qjae9bbYEBIbnyuzth9Z9eX2eJWM88cw?e=F1WuqU)\n",
        "\n",
        "Table 3 - [31010do002_202312.pdf](https://mymailunisaedu.sharepoint.com/:b:/s/USO_CapstoneProjectSP4SP62024-GroupD/Ea8qflsFPGdEuskZ7iViVJoBKveyBZc5B_L2PjIQUulZ_Q?e=WoLN2q)\n",
        "\n",
        "\n",
        "We will be converting these tables to csv, then dict, which will be our ground truth for accuracy metric testing."
      ],
      "metadata": {
        "id": "YEpJaayKISgh"
      }
    },
    {
      "cell_type": "markdown",
      "source": [
        "# Table 1"
      ],
      "metadata": {
        "id": "6dQzCJo0IzVX"
      }
    },
    {
      "cell_type": "code",
      "source": [],
      "metadata": {
        "id": "bGONi32_J0GU"
      },
      "execution_count": null,
      "outputs": []
    },
    {
      "cell_type": "markdown",
      "source": [
        "# Table 2"
      ],
      "metadata": {
        "id": "cNw9svOnJWy7"
      }
    },
    {
      "cell_type": "markdown",
      "source": [
        "# Table 3"
      ],
      "metadata": {
        "id": "F2ZvwNOMJxHn"
      }
    }
  ]
}
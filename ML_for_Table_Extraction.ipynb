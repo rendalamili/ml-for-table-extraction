{
  "nbformat": 4,
  "nbformat_minor": 0,
  "metadata": {
    "colab": {
      "provenance": [],
      "authorship_tag": "ABX9TyPJdtaz8ZWsFAMuWfy3SxJf",
      "include_colab_link": true
    },
    "kernelspec": {
      "name": "python3",
      "display_name": "Python 3"
    },
    "language_info": {
      "name": "python"
    }
  },
  "cells": [
    {
      "cell_type": "markdown",
      "metadata": {
        "id": "view-in-github",
        "colab_type": "text"
      },
      "source": [
        "<a href=\"https://colab.research.google.com/github/rendalamili/ml-for-table-extraction/blob/main/ML_for_Table_Extraction.ipynb\" target=\"_parent\"><img src=\"https://colab.research.google.com/assets/colab-badge.svg\" alt=\"Open In Colab\"/></a>"
      ]
    },
    {
      "cell_type": "markdown",
      "source": [
        "# Machine Learning for Table Extraction"
      ],
      "metadata": {
        "id": "XtIJf9Nk_Ils"
      }
    },
    {
      "cell_type": "markdown",
      "source": [
        "## Data Set"
      ],
      "metadata": {
        "id": "LLORfepd_qtg"
      }
    },
    {
      "cell_type": "markdown",
      "source": [
        "##Models"
      ],
      "metadata": {
        "id": "0tQZoLc5_ZHF"
      }
    },
    {
      "cell_type": "markdown",
      "source": [
        "### Pytorch?"
      ],
      "metadata": {
        "id": "WKoMQns1_eiV"
      }
    },
    {
      "cell_type": "markdown",
      "source": [
        "###Camelot/Tabula?"
      ],
      "metadata": {
        "id": "mhKcDh8K_g5a"
      }
    },
    {
      "cell_type": "markdown",
      "source": [
        "###Tensor Flow"
      ],
      "metadata": {
        "id": "F-CDnimI_j_i"
      }
    },
    {
      "cell_type": "code",
      "execution_count": null,
      "metadata": {
        "id": "A384SpU6-hSp"
      },
      "outputs": [],
      "source": []
    }
  ]
}